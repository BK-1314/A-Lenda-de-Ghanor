{
 "cells": [
  {
   "cell_type": "code",
   "execution_count": 1,
   "metadata": {},
   "outputs": [],
   "source": [
    "import os"
   ]
  },
  {
   "cell_type": "code",
   "execution_count": 12,
   "metadata": {},
   "outputs": [],
   "source": [
    "def criar_arquivos_txt(lista_tuplas, caminho_saida):\n",
    "  \"\"\"\n",
    "  Cria um arquivo .txt para cada tupla na lista com a estrutura:\n",
    "\n",
    "  # {nome}\n",
    "\n",
    "  {descrição}\n",
    "\n",
    "  Args:\n",
    "      lista_tuplas: Uma lista de tuplas (nome, descrição).\n",
    "      caminho_saida: O caminho onde os arquivos serão salvos.\n",
    "\n",
    "  Returns:\n",
    "      None.\n",
    "  \"\"\"\n",
    "  for nome, descricao in lista_tuplas:\n",
    "    with open(os.path.join(caminho_saida, f\"{nome}.md\"), \"w\", encoding=\"utf-8\") as arquivo:\n",
    "      arquivo.write(f\"# *{nome}*\\n\\n{descricao}\")"
   ]
  },
  {
   "cell_type": "code",
   "execution_count": 111,
   "metadata": {},
   "outputs": [],
   "source": [
    "\n",
    "habilidades = [\n",
    "('Tradição Arcana', 'A magia é um poder incrível, capaz de realizar coisas com as quais a maioria dos mortais apenas sonha. Entretanto, mesmo este poder é regido por regras, que devem ser seguidas por aqueles que pretendem dominá-lo.\\n Escolha uma tradição entre as descritas a seguir. Sua tradição define sua lista de magias, o preço de sua magia e os segredos arcanos que você pode aprender. Uma vez feita, essa escolha não pode ser mudada.'),\n",
    "('Poder de Mago', 'No 2º nível, e a cada nível seguinte, você escolhe um poder de mago a sua escolha. Veja a lista a seguir.'),\n",
    "('Alta Arcana', 'No 20º nível, seu domínio das artes arcanas é total. O custo em PM de suas magias de mago é reduzido à metade (após aplicar aprimoramentos e quaisquer outros efeitos que reduzam custo).')\n",
    "    ]\n"
   ]
  },
  {
   "cell_type": "code",
   "execution_count": 112,
   "metadata": {},
   "outputs": [],
   "source": [
    "poderes = [\n",
    "    (\"Conhecimento Mágico\", \"Você aprende duas magias de qualquer círculo que possa lançar. Você pode escolher este poder quantas vezes quiser.\"),\n",
    "    (\"Conhecimento Proibido\", \"Você aprende uma magia de qualquer tradição de qualquer círculo que possa lançar. Pré-requisito: treinado em Conhecimento.\"),\n",
    "    (\"Contramágica Aprimorada\", \"Uma vez por rodada, você pode fazer uma contramágica como uma reação (veja a página 132). Pré-requisito: Dissipar Magia.\"),\n",
    "    (\"Envolto em Mistério\", \"Sua aparência e postura assombrosas o permitem manipular e assustar pessoas ignorantes ou supersticiosas. O mestre define o que exatamente você pode fazer e quem se encaixa nessa descrição. Como regra geral, você recebe +5 em Enganação e Intimidação contra pessoas não treinadas em Conhecimento ou Misticismo.\"),\n",
    "    (\"Escudo Mágico\", \"Quando lança uma magia, você recebe um bônus na Defesa igual ao círculo da magia lançada até o início do seu próximo turno.\"),\n",
    "    (\"Familiar\", \"Você possui um animal de estimação mágico. Veja o quadro para detalhes.\"),\n",
    "    (\"Fluxo de Mana\", \"Você pode manter dois efeitos sustentados ativos simultaneamente com apenas uma ação livre, pagando o custo de cada efeito separadamente. Pré-requisito: 10º nível de mago.\"),\n",
    "    (\"Fortalecimento Arcano\", \"A CD para resistir a suas magias aumenta em +1. Se você puder lançar magias de 4º círculo, em vez disso ela aumenta em +2. Pré-requisito: 5º nível de mago.\"),\n",
    "    (\"Geometria Mística\", \"Quando lança uma magia com efeito em área, você pode excluir uma quantidade de alvos da área afetada igual a sua Inteligência. Pré-requisito: treinado em Conhecimento.\"),\n",
    "    (\"Magia Pungente\", \"Quando lança uma magia, você pode pagar 1 PM para aumentar em +2 a CD para resistir a ela.\"),\n",
    "    (\"Mago de Batalha\", \"Quando lança uma magia você soma sua Inteligência na rolagem de dano.\"),\n",
    "    (\"Poder Mágico\", \"Você recebe +1 ponto de mana por nível de mago. Quando sobe de nível, os PM que recebe por este poder aumentam de acordo.\"),\n",
    "    (\"Raio Arcano\", \"Você pode gastar uma ação padrão para causar 1d8 pontos de dano de essência num alvo em alcance curto. Esse dano aumenta em +1d8 para cada círculo de magia acima do 1º que você puder lançar. O alvo pode fazer um teste de Reflexos (CD Int) para reduzir o dano à metade. O raio arcano conta como uma magia para efeitos de habilidades e itens que beneficiem suas magias.\"),\n",
    "    (\"Raio da Tradição\", \"Se o alvo de seu raio arcano falhar no teste de resistência, sofre um efeito adicional, conforme sua tradição. Abissal: não pode ser curado por uma rodada. Elemental: sofre um dado adicional de dano. Onírica: ofuscado por uma rodada. Erudita: vulnerável por uma rodada. Rústica: lento por uma rodada. Pré-requisito: Raio Arcano.\"),\n",
    "    (\"Raio Poderoso\", \"Os dados de dano do seu Raio Arcano aumentam para d12 e o alcance dele aumenta para médio. Pré-requisito: Raio Arcano.\"),\n",
    "    (\"Segredo Aprimorado\", \"Você recebe o segredo aprimorado de sua tradição arcana. Pré-requisito: 5º nível de mago.\"),\n",
    "    (\"Segredo Superior\", \"Você recebe o segredo superior de sua tradição arcana. Pré-requisitos: Segredo Aprimorado, 9º nível de mago.\"),\n",
    "    (\"Tinta do Mago\", \"Você pode criar pergaminhos, como se tivesse o poder Escrever Pergaminho. Se tiver ambos, seu custo para criar pergaminhos é reduzido à metade. Pré-requisito: treinado em Ofício (escriba).\")\n",
    "]"
   ]
  },
  {
   "cell_type": "code",
   "execution_count": 113,
   "metadata": {},
   "outputs": [
    {
     "name": "stderr",
     "output_type": "stream",
     "text": [
      "<>:1: SyntaxWarning: invalid escape sequence '\\C'\n",
      "<>:1: SyntaxWarning: invalid escape sequence '\\C'\n",
      "C:\\Users\\PL795DK\\AppData\\Local\\Temp\\ipykernel_37512\\440806591.py:1: SyntaxWarning: invalid escape sequence '\\C'\n",
      "  caminho1 = \"Livro de Regras\\Criando Personagens\\Classes\\Habilidades de Classe\"\n"
     ]
    }
   ],
   "source": [
    "caminho1 = \"Livro de Regras\\Criando Personagens\\Classes\\Habilidades de Classe\""
   ]
  },
  {
   "cell_type": "code",
   "execution_count": 97,
   "metadata": {},
   "outputs": [
    {
     "name": "stderr",
     "output_type": "stream",
     "text": [
      "<>:1: SyntaxWarning: invalid escape sequence '\\C'\n",
      "<>:1: SyntaxWarning: invalid escape sequence '\\C'\n",
      "C:\\Users\\PL795DK\\AppData\\Local\\Temp\\ipykernel_37512\\2108645649.py:1: SyntaxWarning: invalid escape sequence '\\C'\n",
      "  caminho2 = \"Livro de Regras\\Criando Personagens\\Classes\\Poderes de Classe\"\n"
     ]
    }
   ],
   "source": [
    "caminho2 = \"Livro de Regras\\Criando Personagens\\Classes\\Poderes de Classe\""
   ]
  },
  {
   "cell_type": "code",
   "execution_count": 114,
   "metadata": {},
   "outputs": [],
   "source": [
    "criar_arquivos_txt(poderes, caminho2)"
   ]
  },
  {
   "cell_type": "code",
   "execution_count": 115,
   "metadata": {},
   "outputs": [],
   "source": [
    "criar_arquivos_txt(habilidades, caminho1)"
   ]
  },
  {
   "cell_type": "code",
   "execution_count": 116,
   "metadata": {},
   "outputs": [
    {
     "name": "stdout",
     "output_type": "stream",
     "text": [
      "* [[Conhecimento Mágico]]\n",
      "* [[Conhecimento Proibido]]\n",
      "* [[Contramágica Aprimorada]]\n",
      "* [[Envolto em Mistério]]\n",
      "* [[Escudo Mágico]]\n",
      "* [[Familiar]]\n",
      "* [[Fluxo de Mana]]\n",
      "* [[Fortalecimento Arcano]]\n",
      "* [[Geometria Mística]]\n",
      "* [[Magia Pungente]]\n",
      "* [[Mago de Batalha]]\n",
      "* [[Poder Mágico]]\n",
      "* [[Raio Arcano]]\n",
      "* [[Raio da Tradição]]\n",
      "* [[Raio Poderoso]]\n",
      "* [[Segredo Aprimorado]]\n",
      "* [[Segredo Superior]]\n",
      "* [[Tinta do Mago]]\n"
     ]
    }
   ],
   "source": [
    "for item in poderes:\n",
    "    print(f'* [[{item[0]}]]')"
   ]
  },
  {
   "cell_type": "code",
   "execution_count": 117,
   "metadata": {},
   "outputs": [
    {
     "name": "stdout",
     "output_type": "stream",
     "text": [
      "* [[Tradição Arcana]]\n",
      "* [[Poder de Mago]]\n",
      "* [[Alta Arcana]]\n"
     ]
    }
   ],
   "source": [
    "for item in habilidades:\n",
    "    print(f'* [[{item[0]}]]')"
   ]
  }
 ],
 "metadata": {
  "kernelspec": {
   "display_name": "Python 3",
   "language": "python",
   "name": "python3"
  },
  "language_info": {
   "codemirror_mode": {
    "name": "ipython",
    "version": 3
   },
   "file_extension": ".py",
   "mimetype": "text/x-python",
   "name": "python",
   "nbconvert_exporter": "python",
   "pygments_lexer": "ipython3",
   "version": "3.12.1"
  }
 },
 "nbformat": 4,
 "nbformat_minor": 2
}
