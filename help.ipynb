{
 "cells": [
  {
   "cell_type": "code",
   "execution_count": 1,
   "metadata": {},
   "outputs": [],
   "source": [
    "import os"
   ]
  },
  {
   "cell_type": "code",
   "execution_count": 12,
   "metadata": {},
   "outputs": [],
   "source": [
    "def criar_arquivos_txt(lista_tuplas, caminho_saida):\n",
    "  \"\"\"\n",
    "  Cria um arquivo .txt para cada tupla na lista com a estrutura:\n",
    "\n",
    "  # {nome}\n",
    "\n",
    "  {descrição}\n",
    "\n",
    "  Args:\n",
    "      lista_tuplas: Uma lista de tuplas (nome, descrição).\n",
    "      caminho_saida: O caminho onde os arquivos serão salvos.\n",
    "\n",
    "  Returns:\n",
    "      None.\n",
    "  \"\"\"\n",
    "  for nome, descricao in lista_tuplas:\n",
    "    with open(os.path.join(caminho_saida, f\"{nome}.md\"), \"w\", encoding=\"utf-8\") as arquivo:\n",
    "      arquivo.write(f\"# *{nome}*\\n\\n{descricao}\")"
   ]
  },
  {
   "cell_type": "code",
   "execution_count": 46,
   "metadata": {},
   "outputs": [],
   "source": [
    "\n",
    "lista_tuplas = [\n",
    "    (\"Abusar dos Fracos\", \"Quando ataca uma criatura sob efeito de uma condição de medo, seu dano aumenta em um passo. Pré-requisito: Flagelo dos Mares.\"),\n",
    "    (\"Amigos no Porto\", \"Quando chega em uma comunidade portuária, você pode fazer um teste de Carisma (CD 10). Se passar, encontra um amigo para o qual pode pedir um favor ou que pode ajudá-lo como parceiro veterano de um tipo a sua escolha por um dia. Pré-requisitos: Car 1, 6º nível de bucaneiro.\"),\n",
    "    (\"Aparar\", \"Uma vez por rodada, quando é atingido por um ataque, você pode gastar 1 PM para fazer um teste de ataque com bônus igual ao seu nível (além do normal). Se o resultado do seu teste for maior que o do oponente, você evita o ataque. Você só pode usar este poder se estiver usando uma arma corpo a corpo leve ou ágil. Pré-requisito: Esgrimista.\"),\n",
    "    (\"Apostador\", \"Você pode gastar um dia para encontrar e participar de apostas ou jogos de azar. Escolha um valor e faça um teste de Enganação contra a CD correspondente: 100 PP (CD 15), 200 PP (CD 20), 400 PP (CD 25), 800 PP (CD 30), 1.600 PP (CD 35) e assim por diante. Se passar, você ganha o valor escolhido (ou um item ou favor equivalente, a critério do mestre). Se falhar, perde esse mesmo o valor. A critério do mestre, o lugar onde você está pode limitar ou impossibilitar o uso deste poder. Pré-requisito: treinado em Enganação.\"),\n",
    "    (\"Ataque Acrobático\", \"Quando se aproxima de um inimigo com um salto ou pirueta (em termos de jogo, usando Atletismo ou Acrobacia para se mover) e o ataca no mesmo turno, você recebe +2 nesse teste de ataque e na rolagem de dano.\"),\n",
    "    (\"Aumento de Atributo\", \"Você recebe +1 em um atributo. Você pode escolher este poder várias vezes, mas apenas uma vez por patamar para um mesmo atributo.\"),\n",
    "    (\"Aventureiro Ávido\", \"Uma vez por rodada, você pode gastar 5 PM para realizar uma ação padrão ou de movimento adicional. Se possuir o poder Surto Heroico, em vez disso seu custo diminui em –2 PM.\"),\n",
    "    (\"Bravata Audaz\", \"Você jura fazer uma façanha específica, como roubar uma relíquia do Santo Vivo ou ganhar um beijo do príncipe até o fim do baile. Se cumprir a bravata, seus PM aumentam em +2 por nível de bucaneiro até o fim da aventura.\"),\n",
    "    (\"Bravata Imprudente\", \"Na primeira rodada de um combate, você pode jurar derrotar seus inimigos com uma restrição a sua escolha, como lutar com uma mão nas costas, de guarda aberta (em termos de jogo, desprevenido), de olhos vendados (cego) etc. Uma restrição só é válida se prejudicá-lo (por exemplo, lutar com uma mão nas costas só vale como restrição se você luta com duas armas). O mestre tem a palavra final sobre a validade de uma restrição. Você sofre a penalidade durante todo o combate, mas, se vencer, recebe +2 nos testes de ataque e na margem de ameaça até o fim da aventura.\"),\n",
    "    (\"Charme Salvador\", \"Quando usa Audácia em um teste de resistência, o custo desta habilidade é reduzido em –1 PM.\"),\n",
    "    (\"En Garde\", \"Você pode gastar uma ação de movimento e 1 PM para assumir postura de luta. Até o fim da cena, se estiver usando uma arma corpo a corpo leve ou ágil, você recebe +2 na Defesa e na margem de ameaça. Pré-requisito: Esgrimista.\"),\n",
    "    (\"Entrada Triunfal\", \"Uma vez por aventura, no início de uma cena em que houver outras pessoas (como ao chegar em um baile ou taverna), você pode fazer um teste de uma perícia a sua escolha (CD 20). Essa perícia deve se relacionar com sua entrada triunfal — por exemplo, Acrobacia para surgir balançando-se no castiçal do salão ou Diplomacia para um discurso impressionante (o mestre tem a palavra final sobre a escolha da perícia). Se passar, você recebe 5 PM temporários, +5 PM para cada 10 pontos pelos quais o resultado do teste exceder a CD (10 PM para um resultado 30, 15 PM para um resultado 40 e assim por diante).\"),\n",
    "    (\"Esgrimista\", \"Quando usa uma arma leve ou ágil, você soma sua Inteligência nas rolagens de dano (limitado pelo seu nível). Pré-requisito: Int 1.\"),\n",
    "    (\"Flagelo dos Mares\", \"Você pode lançar Amedrontar (atributo-chave Carisma). Esta não é uma habilidade mágica e provém de sua capacidade de incutir medo em seus inimigos. Pré-requisito: treinado em Intimidação.\"),\n",
    "    (\"Folião\", \"Você sabe fazer amizades durante festas, de noitadas em tavernas a bailes na corte. Nesses locais, você recebe +2 em testes de perícias de Carisma e a atitude de todas as pessoas em relação a você melhora em uma categoria. Pré-requisito: Car 1.\"),\n",
    "    (\"Galanteio Encorajador\", \"O sorriso de uma bela dama ou cavalheiro inspira suas façanhas. Uma vez por cena, você pode fazer um teste de Diplomacia oposto no teste de Vontade de uma criatura inteligente (Int –3 ou maior) em alcance curto que você considere atraente. Se passar, você recebe 1d6 PM temporários.\"),\n",
    "    (\"Mão Amiga\", \"Seu jeito ousado atrai simpatia. Uma vez por cena, você pode gastar 1 PM para receber o benefício de um parceiro iniciante de um tipo a sua escolha por uma rodada — desde que haja pessoas que possam ajudá-lo por perto. Isto não conta em seu limite de parceiros. Pré-requisito: Car 3.\"),\n",
    "    (\"Ousadia Inconsequente\", \"Uma vez por rodada, quando faz um teste de perícia, você pode rolar 1d6 e adicionar o resultado ao seu teste. Porém, se falhar nesse teste, até o fim da cena você sofre –1 em testes de perícia e não pode mais usar esta habilidade.\"),\n",
    "    (\"Pernas do Mar\", \"Você está acostumado à superfície oscilante do convés. Você recebe +2 em Acrobacia e Atletismo e não fica desprevenido quando está se equilibrando ou escalando.\"),\n",
    "    (\"Presença Paralisante\", \"Você soma seu Carisma à sua Iniciativa e, se for o primeiro na iniciativa, ganha uma ação padrão extra na primeira rodada. Pré-requisitos: Car 1, 4º nível de bucaneiro.\"),\n",
    "    (\"Ripostar\", \"Quando usa a habilidade aparar e evita o ataque, você pode gastar 1 PM. Se fizer isso, pode fazer um ataque corpo a corpo imediato contra o inimigo que o atacou (se ele estiver em alcance). Pré-requisito: Aparar, 12º nível de bucaneiro.\"),\n",
    "    (\"Touché\", \"Quando se aproxima de um inimigo e o ataca com uma arma corpo a corpo leve ou ágil no mesmo turno, você pode gastar 2 PM para aumentar seu dano em um passo e receber +5 na margem de ameaça. Pré-requisito: Esgrimista, 10º nível de bucaneiro.\")\n",
    "]\n"
   ]
  },
  {
   "cell_type": "code",
   "execution_count": 47,
   "metadata": {},
   "outputs": [
    {
     "name": "stderr",
     "output_type": "stream",
     "text": [
      "<>:1: SyntaxWarning: invalid escape sequence '\\C'\n",
      "<>:1: SyntaxWarning: invalid escape sequence '\\C'\n",
      "C:\\Users\\PL795DK\\AppData\\Local\\Temp\\ipykernel_37512\\2029824513.py:1: SyntaxWarning: invalid escape sequence '\\C'\n",
      "  caminho_saida = \"Livro de Regras\\Criando Personagens\\Classes\\Poderes de Classe\"\n"
     ]
    }
   ],
   "source": [
    "caminho_saida = \"Livro de Regras\\Criando Personagens\\Classes\\Poderes de Classe\""
   ]
  },
  {
   "cell_type": "code",
   "execution_count": 48,
   "metadata": {},
   "outputs": [],
   "source": [
    "criar_arquivos_txt(lista_tuplas, caminho_saida)"
   ]
  },
  {
   "cell_type": "code",
   "execution_count": 49,
   "metadata": {},
   "outputs": [
    {
     "name": "stdout",
     "output_type": "stream",
     "text": [
      "* [[Abusar dos Fracos]]\n",
      "* [[Amigos no Porto]]\n",
      "* [[Aparar]]\n",
      "* [[Apostador]]\n",
      "* [[Ataque Acrobático]]\n",
      "* [[Aumento de Atributo]]\n",
      "* [[Aventureiro Ávido]]\n",
      "* [[Bravata Audaz]]\n",
      "* [[Bravata Imprudente]]\n",
      "* [[Charme Salvador]]\n",
      "* [[En Garde]]\n",
      "* [[Entrada Triunfal]]\n",
      "* [[Esgrimista]]\n",
      "* [[Flagelo dos Mares]]\n",
      "* [[Folião]]\n",
      "* [[Galanteio Encorajador]]\n",
      "* [[Mão Amiga]]\n",
      "* [[Ousadia Inconsequente]]\n",
      "* [[Pernas do Mar]]\n",
      "* [[Presença Paralisante]]\n",
      "* [[Ripostar]]\n",
      "* [[Touché]]\n"
     ]
    }
   ],
   "source": [
    "for item in lista_tuplas:\n",
    "    print(f'* [[{item[0]}]]')"
   ]
  }
 ],
 "metadata": {
  "kernelspec": {
   "display_name": "Python 3",
   "language": "python",
   "name": "python3"
  },
  "language_info": {
   "codemirror_mode": {
    "name": "ipython",
    "version": 3
   },
   "file_extension": ".py",
   "mimetype": "text/x-python",
   "name": "python",
   "nbconvert_exporter": "python",
   "pygments_lexer": "ipython3",
   "version": "3.12.1"
  }
 },
 "nbformat": 4,
 "nbformat_minor": 2
}
