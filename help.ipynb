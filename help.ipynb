{
 "cells": [
  {
   "cell_type": "code",
   "execution_count": 1,
   "metadata": {},
   "outputs": [],
   "source": [
    "import os"
   ]
  },
  {
   "cell_type": "code",
   "execution_count": 12,
   "metadata": {},
   "outputs": [],
   "source": [
    "def criar_arquivos_txt(lista_tuplas, caminho_saida):\n",
    "  \"\"\"\n",
    "  Cria um arquivo .txt para cada tupla na lista com a estrutura:\n",
    "\n",
    "  # {nome}\n",
    "\n",
    "  {descrição}\n",
    "\n",
    "  Args:\n",
    "      lista_tuplas: Uma lista de tuplas (nome, descrição).\n",
    "      caminho_saida: O caminho onde os arquivos serão salvos.\n",
    "\n",
    "  Returns:\n",
    "      None.\n",
    "  \"\"\"\n",
    "  for nome, descricao in lista_tuplas:\n",
    "    with open(os.path.join(caminho_saida, f\"{nome}.md\"), \"w\", encoding=\"utf-8\") as arquivo:\n",
    "      arquivo.write(f\"# *{nome}*\\n\\n{descricao}\")"
   ]
  },
  {
   "cell_type": "code",
   "execution_count": 72,
   "metadata": {},
   "outputs": [],
   "source": [
    "\n",
    "lista_tuplas = [\n",
    "    \n",
    "    ('Armadura da Honra', 'No início de cada cena, você recebe uma quantidade de pontos de vida temporários igual a seu nível + seu Carisma. Os PV temporários duram até o final da cena.'),\n",
    "    ('Aumento de Atributo', 'Você recebe +1 em um atributo. Você pode escolher este poder várias vezes, mas apenas uma vez por patamar para um mesmo atributo.'),\n",
    "    ('Autoridade Feudal', 'Você pode gastar uma hora e 2 PM para conclamar o povo a ajudá-lo (qualquer pessoa sem um título de nobreza ou uma posição numa igreja reconhecida pelo seu reino). Em termos de jogo, essas pessoas contam como um parceiro iniciante de um tipo a sua escolha (aprovado pelo mestre) que o acompanha até o fim da aventura. Esta habilidade só pode ser usada em locais onde sua posição carregue alguma influência (a critério do mestre). Pré-requisito: 6º nível de cavaleiro.'),\n",
    "    ('Desprezar os Covardes', 'Você recebe RD 5 se estiver caído, desprevenido ou flanqueado.'),\n",
    "    ('Escudeiro', 'Você recebe os serviços de um escudeiro, um parceiro que cuida de seu equipamento e pode auxiliá-lo em combate. Suas armas fornecem +1 em rolagens de dano e sua armadura fornece +1 na Defesa. Além disso, você pode pagar 1 PM para receber uma ação de movimento, que pode usar para se levantar, sacar um item ou trazer sua montaria. O escudeiro não conta em seu limite de parceiros. Caso ele morra, você pode treinar outro com uma semana de trabalho.'),\n",
    "    ('Especialização em Armadura', 'Se estiver usando armadura pesada, você recebe redução de dano 5. Pré-requisito: 12º nível de cavaleiro.'),\n",
    "    ('Estandarte', 'Sua flâmula torna-se um símbolo de inspiração. No início de cada cena, você e todos os aliados que possam ver seu estandarte recebem um número de PM temporários igual ao seu Carisma (mínimo 1). Esses pontos temporários desaparecem no final da cena. Pré-requisitos: Título, 14º nível de cavaleiro.'),\n",
    "    ('Etiqueta', 'Você recebe +2 em Diplomacia e Nobreza e pode gastar 1 PM para rolar novamente um teste recém realizado de uma dessas perícias.'),\n",
    "    ('Investida Destruidora', 'Quando faz a ação investida, você pode gastar 2 PM. Se fizer isso, causa +2d8 pontos de dano. Você deve usar esta habilidade antes de rolar o ataque.'),\n",
    "    ('Investida Esmagadora', 'Quando faz uma investida e acerta o ataque, você pode gastar 1 PM para fazer uma manobra derrubar contra o alvo.'),\n",
    "    ('Montaria Corajosa', 'Sua montaria fornece +1d6 em rolagens de dano corpo a corpo (cumulativo com qualquer bônus que ela já forneça como parceiro). Pré-requisito: Montaria.'),\n",
    "    ('Pajem', 'Você recebe os serviços de um pajem, um parceiro que o auxilia em pequenos afazeres. Você recebe +2 em Diplomacia, por estar sempre aprumado, e sua condição de descanso é uma categoria acima do padrão pela situação (veja a página 70). O pajem pode executar pequenas tarefas, como entregar mensagens e comprar itens, e não conta em seu limite de parceiros. Caso ele morra, você pode treinar outro com uma semana de trabalho.'),\n",
    "    ('Postura de Combate - Castigo de Ferro', 'Sempre que um aliado adjacente sofrer um ataque corpo a corpo, você pode gastar 1 PM para fazer um ataque na criatura que o atacou.'),\n",
    "    ('Postura de Combate - Foco de Batalha', 'Sempre que um inimigo atacá-lo, você recebe 1 PM temporário (cumulativo). Você pode ganhar um máximo de PM temporários por cena igual ao seu nível. Esses pontos temporários desaparecem no final da cena.'),\n",
    "    ('Postura de Combate - Muralha Intransponível', 'Para assumir esta postura você precisa estar empunhando um escudo. Você recebe +1 na Defesa e em Reflexos. Para cada 2 PM adicionais que gastar quando assumir a postura, aumente os bônus em +1. Além disso, quando sofre um efeito que permite um teste de Reflexos para reduzir o dano à metade, não sofre nenhum dano se passar. Enquanto mantiver esta postura, seu deslocamento é reduzido para 3m.'),\n",
    "    ('Postura de Combate - Provocação Petulante', 'Enquanto esta postura estiver ativa, todos os inimigos que iniciarem seus turnos em alcance curto devem fazer um teste de Vontade (CD Car). Se falharem, qualquer ação hostil que realizarem deve ter você como alvo (suas outras ações não têm esta restrição). Ações hostis incluem ataques e outras que causem dano e/ou condições negativas. Mental.'),\n",
    "    ('Postura de Combate: -Torre Inabalável', 'Você assume uma postura defensiva que o torna imune a tentativas de tirá-lo do lugar. Enquanto mantiver a postura, você não pode se deslocar, mas soma sua Constituição na Defesa e pode substituir testes de Reflexos e Vontade por testes de Fortitude.'),\n",
    "    ('Solidez', 'Se estiver usando um escudo, você soma o bônus na Defesa recebido pelo escudo em testes de resistência.'),\n",
    "    ('Título', 'Você adquire um título de nobreza. Converse com o mestre para definir os benefícios exatos de seu título. Como regra geral, no início de cada aventura você recebe 20 PO por nível (rendimentos dos impostos) ou a ajuda de um parceiro veterano (um membro de sua corte). Se você for um regente, seu título garante ainda mais autoridade sobre sua terra, fornecendo +2 em testes de domínio. Pré-requisitos: Autoridade Feudal, 10º nível de cavaleiro, ter conquistado terras ou realizado um serviço para um nobre que possa se tornar seu suserano.')\n",
    "]\n",
    "\n",
    "\n"
   ]
  },
  {
   "cell_type": "code",
   "execution_count": 56,
   "metadata": {},
   "outputs": [
    {
     "name": "stderr",
     "output_type": "stream",
     "text": [
      "<>:1: SyntaxWarning: invalid escape sequence '\\C'\n",
      "<>:1: SyntaxWarning: invalid escape sequence '\\C'\n",
      "C:\\Users\\PL795DK\\AppData\\Local\\Temp\\ipykernel_37512\\440806591.py:1: SyntaxWarning: invalid escape sequence '\\C'\n",
      "  caminho1 = \"Livro de Regras\\Criando Personagens\\Classes\\Habilidades de Classe\"\n"
     ]
    }
   ],
   "source": [
    "caminho1 = \"Livro de Regras\\Criando Personagens\\Classes\\Habilidades de Classe\""
   ]
  },
  {
   "cell_type": "code",
   "execution_count": 73,
   "metadata": {},
   "outputs": [
    {
     "name": "stderr",
     "output_type": "stream",
     "text": [
      "<>:1: SyntaxWarning: invalid escape sequence '\\C'\n",
      "<>:1: SyntaxWarning: invalid escape sequence '\\C'\n",
      "C:\\Users\\PL795DK\\AppData\\Local\\Temp\\ipykernel_37512\\2108645649.py:1: SyntaxWarning: invalid escape sequence '\\C'\n",
      "  caminho2 = \"Livro de Regras\\Criando Personagens\\Classes\\Poderes de Classe\"\n"
     ]
    }
   ],
   "source": [
    "caminho2 = \"Livro de Regras\\Criando Personagens\\Classes\\Poderes de Classe\""
   ]
  },
  {
   "cell_type": "code",
   "execution_count": 74,
   "metadata": {},
   "outputs": [],
   "source": [
    "criar_arquivos_txt(lista_tuplas, caminho2)"
   ]
  },
  {
   "cell_type": "code",
   "execution_count": 75,
   "metadata": {},
   "outputs": [
    {
     "name": "stdout",
     "output_type": "stream",
     "text": [
      "* [[Armadura da Honra]]\n",
      "* [[Aumento de Atributo]]\n",
      "* [[Autoridade Feudal]]\n",
      "* [[Desprezar os Covardes]]\n",
      "* [[Escudeiro]]\n",
      "* [[Especialização em Armadura]]\n",
      "* [[Estandarte]]\n",
      "* [[Etiqueta]]\n",
      "* [[Investida Destruidora]]\n",
      "* [[Investida Esmagadora]]\n",
      "* [[Montaria Corajosa]]\n",
      "* [[Pajem]]\n",
      "* [[Postura de Combate - Castigo de Ferro]]\n",
      "* [[Postura de Combate - Foco de Batalha]]\n",
      "* [[Postura de Combate - Muralha Intransponível]]\n",
      "* [[Postura de Combate - Provocação Petulante]]\n",
      "* [[Postura de Combate: -Torre Inabalável]]\n",
      "* [[Solidez]]\n",
      "* [[Título]]\n"
     ]
    }
   ],
   "source": [
    "for item in lista_tuplas:\n",
    "    print(f'* [[{item[0]}]]')"
   ]
  }
 ],
 "metadata": {
  "kernelspec": {
   "display_name": "Python 3",
   "language": "python",
   "name": "python3"
  },
  "language_info": {
   "codemirror_mode": {
    "name": "ipython",
    "version": 3
   },
   "file_extension": ".py",
   "mimetype": "text/x-python",
   "name": "python",
   "nbconvert_exporter": "python",
   "pygments_lexer": "ipython3",
   "version": "3.12.1"
  }
 },
 "nbformat": 4,
 "nbformat_minor": 2
}
